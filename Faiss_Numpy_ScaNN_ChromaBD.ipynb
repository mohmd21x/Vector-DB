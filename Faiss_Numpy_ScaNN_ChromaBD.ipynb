{
  "cells": [
    {
      "cell_type": "code",
      "source": [
        "!pip install faiss-cpu"
      ],
      "metadata": {
        "colab": {
          "base_uri": "https://localhost:8080/"
        },
        "id": "-yVDtKEYTY3V",
        "outputId": "01ae7d24-6a6c-42f7-c00e-4b18e735e1a2"
      },
      "execution_count": 1,
      "outputs": [
        {
          "output_type": "stream",
          "name": "stdout",
          "text": [
            "Collecting faiss-cpu\n",
            "  Downloading faiss_cpu-1.8.0-cp310-cp310-manylinux_2_17_x86_64.manylinux2014_x86_64.whl (27.0 MB)\n",
            "\u001b[2K     \u001b[90m━━━━━━━━━━━━━━━━━━━━━━━━━━━━━━━━━━━━━━━━\u001b[0m \u001b[32m27.0/27.0 MB\u001b[0m \u001b[31m31.7 MB/s\u001b[0m eta \u001b[36m0:00:00\u001b[0m\n",
            "\u001b[?25hRequirement already satisfied: numpy in /usr/local/lib/python3.10/dist-packages (from faiss-cpu) (1.25.2)\n",
            "Installing collected packages: faiss-cpu\n",
            "Successfully installed faiss-cpu-1.8.0\n"
          ]
        }
      ]
    },
    {
      "cell_type": "code",
      "execution_count": 4,
      "metadata": {
        "id": "nYMEdEM0TG0G"
      },
      "outputs": [],
      "source": [
        "import faiss\n",
        "import numpy as np\n",
        "import time\n",
        "from statistics import mean"
      ]
    },
    {
      "cell_type": "markdown",
      "metadata": {
        "id": "cJQv5GsCTG0H"
      },
      "source": [
        "# Calc L2 ditance with FAISS"
      ]
    },
    {
      "cell_type": "code",
      "execution_count": 5,
      "metadata": {
        "colab": {
          "base_uri": "https://localhost:8080/"
        },
        "id": "qLn5wm6aTG0J",
        "outputId": "ef5fc18f-46bb-4944-b209-38649e7bdffe"
      },
      "outputs": [
        {
          "output_type": "stream",
          "name": "stdout",
          "text": [
            "Create Database Time(FAISS):  0.00013828277587890625\n",
            "Time Of Search(FAISS) 5.745887756347656e-05\n",
            "Create Database Time(FAISS):  9.083747863769531e-05\n",
            "Time Of Search(FAISS) 0.00010442733764648438\n",
            "Create Database Time(FAISS):  0.019954442977905273\n",
            "Time Of Search(FAISS) 0.0003867149353027344\n",
            "Create Database Time(FAISS):  0.03384685516357422\n",
            "Time Of Search(FAISS) 0.009325742721557617\n",
            "Create Database Time(FAISS):  0.2322549819946289\n",
            "Time Of Search(FAISS) 0.08532381057739258\n",
            "Create Database Time(FAISS):  0.7932004928588867\n",
            "Time Of Search(FAISS) 0.2229459285736084\n"
          ]
        }
      ],
      "source": [
        "# Build an index\n",
        "lengths = [10, 100, 1000, 10000, 100000, 500000]\n",
        "\n",
        "db_time_faiss = []\n",
        "search_time_faiss = []\n",
        "for len in lengths:\n",
        "  data = np.random.rand(len, 512).astype('float32')\n",
        "  start_time = time.time()\n",
        "  index = faiss.IndexFlatL2(512) # L2 distance index\n",
        "  index.add(data)\n",
        "  end_time = time.time() - start_time\n",
        "  db_time_faiss.append(end_time)\n",
        "  print('Create Database Time(FAISS): ', end_time)\n",
        "  query_vector = np.random.rand(1, 512).astype('float32')\n",
        "  k = index.ntotal\n",
        "  start_time = time.time()\n",
        "  distances, indices = index.search(query_vector, k)\n",
        "  end_time = time.time() - start_time\n",
        "  search_time_faiss.append(end_time)\n",
        "  print('Time Of Search(FAISS)', end_time)"
      ]
    },
    {
      "cell_type": "code",
      "source": [
        "print('Avg Create Time DB(FAISS) :', mean(db_time_faiss))\n",
        "print('Avg Search Time (FAISS) :', mean(search_time_faiss))"
      ],
      "metadata": {
        "colab": {
          "base_uri": "https://localhost:8080/"
        },
        "id": "ujTHU5D0YRUF",
        "outputId": "1b486b2f-6bb9-4fc4-eb42-cf826e21ad3b"
      },
      "execution_count": 6,
      "outputs": [
        {
          "output_type": "stream",
          "name": "stdout",
          "text": [
            "Avg Create Time DB(FAISS) : 0.1799143155415853\n",
            "Avg Search Time (FAISS) : 0.05302401383717855\n"
          ]
        }
      ]
    },
    {
      "cell_type": "markdown",
      "metadata": {
        "id": "tzFTwmkvTG0K"
      },
      "source": [
        "# Calc L2 distance with numpy"
      ]
    },
    {
      "cell_type": "code",
      "execution_count": 7,
      "metadata": {
        "colab": {
          "base_uri": "https://localhost:8080/"
        },
        "id": "mlp0804zTG0K",
        "outputId": "1e8dee53-ced2-422c-b268-d274fe6d2c2e"
      },
      "outputs": [
        {
          "output_type": "stream",
          "name": "stdout",
          "text": [
            "Time Of Search(numpy) 0.00016999244689941406\n",
            "Time Of Search(numpy) 0.0002608299255371094\n",
            "Time Of Search(numpy) 0.0027976036071777344\n",
            "Time Of Search(numpy) 0.04004549980163574\n",
            "Time Of Search(numpy) 0.34064483642578125\n",
            "Time Of Search(numpy) 2.3290224075317383\n"
          ]
        }
      ],
      "source": [
        "array1 = np.random.rand(1, 512)\n",
        "search_time_np = []\n",
        "for len in lengths:\n",
        "  data = np.random.rand(len, 512)\n",
        "  start_time = time.time()\n",
        "  # Calculate the L2 distance\n",
        "  l2_distance = np.linalg.norm(array1 - data, axis=1)\n",
        "  end_time = time.time() - start_time\n",
        "  search_time_np.append(end_time)\n",
        "  print('Time Of Search(numpy)', end_time)"
      ]
    },
    {
      "cell_type": "markdown",
      "metadata": {
        "id": "a6wWe8Q-TG0K"
      },
      "source": [
        "# ScaNN (L2 Distance)"
      ]
    },
    {
      "cell_type": "code",
      "execution_count": 8,
      "metadata": {
        "colab": {
          "base_uri": "https://localhost:8080/"
        },
        "collapsed": true,
        "id": "xChJaKR6TG0K",
        "outputId": "8780313f-df94-4fd3-dba1-bb7d0658b146"
      },
      "outputs": [
        {
          "output_type": "stream",
          "name": "stdout",
          "text": [
            "Collecting scann\n",
            "  Downloading scann-1.3.2-cp310-cp310-manylinux_2_27_x86_64.whl (10.6 MB)\n",
            "\u001b[2K     \u001b[90m━━━━━━━━━━━━━━━━━━━━━━━━━━━━━━━━━━━━━━━━\u001b[0m \u001b[32m10.6/10.6 MB\u001b[0m \u001b[31m68.7 MB/s\u001b[0m eta \u001b[36m0:00:00\u001b[0m\n",
            "\u001b[?25hCollecting tensorflow~=2.16.0 (from scann)\n",
            "  Downloading tensorflow-2.16.1-cp310-cp310-manylinux_2_17_x86_64.manylinux2014_x86_64.whl (589.8 MB)\n",
            "\u001b[2K     \u001b[90m━━━━━━━━━━━━━━━━━━━━━━━━━━━━━━━━━━━━━━━━\u001b[0m \u001b[32m589.8/589.8 MB\u001b[0m \u001b[31m1.8 MB/s\u001b[0m eta \u001b[36m0:00:00\u001b[0m\n",
            "\u001b[?25hRequirement already satisfied: numpy in /usr/local/lib/python3.10/dist-packages (from scann) (1.25.2)\n",
            "Requirement already satisfied: absl-py>=1.0.0 in /usr/local/lib/python3.10/dist-packages (from tensorflow~=2.16.0->scann) (1.4.0)\n",
            "Requirement already satisfied: astunparse>=1.6.0 in /usr/local/lib/python3.10/dist-packages (from tensorflow~=2.16.0->scann) (1.6.3)\n",
            "Requirement already satisfied: flatbuffers>=23.5.26 in /usr/local/lib/python3.10/dist-packages (from tensorflow~=2.16.0->scann) (24.3.25)\n",
            "Requirement already satisfied: gast!=0.5.0,!=0.5.1,!=0.5.2,>=0.2.1 in /usr/local/lib/python3.10/dist-packages (from tensorflow~=2.16.0->scann) (0.5.4)\n",
            "Requirement already satisfied: google-pasta>=0.1.1 in /usr/local/lib/python3.10/dist-packages (from tensorflow~=2.16.0->scann) (0.2.0)\n",
            "Collecting h5py>=3.10.0 (from tensorflow~=2.16.0->scann)\n",
            "  Downloading h5py-3.11.0-cp310-cp310-manylinux_2_17_x86_64.manylinux2014_x86_64.whl (5.3 MB)\n",
            "\u001b[2K     \u001b[90m━━━━━━━━━━━━━━━━━━━━━━━━━━━━━━━━━━━━━━━━\u001b[0m \u001b[32m5.3/5.3 MB\u001b[0m \u001b[31m87.9 MB/s\u001b[0m eta \u001b[36m0:00:00\u001b[0m\n",
            "\u001b[?25hRequirement already satisfied: libclang>=13.0.0 in /usr/local/lib/python3.10/dist-packages (from tensorflow~=2.16.0->scann) (18.1.1)\n",
            "Collecting ml-dtypes~=0.3.1 (from tensorflow~=2.16.0->scann)\n",
            "  Downloading ml_dtypes-0.3.2-cp310-cp310-manylinux_2_17_x86_64.manylinux2014_x86_64.whl (2.2 MB)\n",
            "\u001b[2K     \u001b[90m━━━━━━━━━━━━━━━━━━━━━━━━━━━━━━━━━━━━━━━━\u001b[0m \u001b[32m2.2/2.2 MB\u001b[0m \u001b[31m85.3 MB/s\u001b[0m eta \u001b[36m0:00:00\u001b[0m\n",
            "\u001b[?25hRequirement already satisfied: opt-einsum>=2.3.2 in /usr/local/lib/python3.10/dist-packages (from tensorflow~=2.16.0->scann) (3.3.0)\n",
            "Requirement already satisfied: packaging in /usr/local/lib/python3.10/dist-packages (from tensorflow~=2.16.0->scann) (24.0)\n",
            "Requirement already satisfied: protobuf!=4.21.0,!=4.21.1,!=4.21.2,!=4.21.3,!=4.21.4,!=4.21.5,<5.0.0dev,>=3.20.3 in /usr/local/lib/python3.10/dist-packages (from tensorflow~=2.16.0->scann) (3.20.3)\n",
            "Requirement already satisfied: requests<3,>=2.21.0 in /usr/local/lib/python3.10/dist-packages (from tensorflow~=2.16.0->scann) (2.31.0)\n",
            "Requirement already satisfied: setuptools in /usr/local/lib/python3.10/dist-packages (from tensorflow~=2.16.0->scann) (67.7.2)\n",
            "Requirement already satisfied: six>=1.12.0 in /usr/local/lib/python3.10/dist-packages (from tensorflow~=2.16.0->scann) (1.16.0)\n",
            "Requirement already satisfied: termcolor>=1.1.0 in /usr/local/lib/python3.10/dist-packages (from tensorflow~=2.16.0->scann) (2.4.0)\n",
            "Requirement already satisfied: typing-extensions>=3.6.6 in /usr/local/lib/python3.10/dist-packages (from tensorflow~=2.16.0->scann) (4.11.0)\n",
            "Requirement already satisfied: wrapt>=1.11.0 in /usr/local/lib/python3.10/dist-packages (from tensorflow~=2.16.0->scann) (1.14.1)\n",
            "Requirement already satisfied: grpcio<2.0,>=1.24.3 in /usr/local/lib/python3.10/dist-packages (from tensorflow~=2.16.0->scann) (1.64.0)\n",
            "Collecting tensorboard<2.17,>=2.16 (from tensorflow~=2.16.0->scann)\n",
            "  Downloading tensorboard-2.16.2-py3-none-any.whl (5.5 MB)\n",
            "\u001b[2K     \u001b[90m━━━━━━━━━━━━━━━━━━━━━━━━━━━━━━━━━━━━━━━━\u001b[0m \u001b[32m5.5/5.5 MB\u001b[0m \u001b[31m92.3 MB/s\u001b[0m eta \u001b[36m0:00:00\u001b[0m\n",
            "\u001b[?25hCollecting keras>=3.0.0 (from tensorflow~=2.16.0->scann)\n",
            "  Downloading keras-3.3.3-py3-none-any.whl (1.1 MB)\n",
            "\u001b[2K     \u001b[90m━━━━━━━━━━━━━━━━━━━━━━━━━━━━━━━━━━━━━━━━\u001b[0m \u001b[32m1.1/1.1 MB\u001b[0m \u001b[31m61.8 MB/s\u001b[0m eta \u001b[36m0:00:00\u001b[0m\n",
            "\u001b[?25hRequirement already satisfied: tensorflow-io-gcs-filesystem>=0.23.1 in /usr/local/lib/python3.10/dist-packages (from tensorflow~=2.16.0->scann) (0.37.0)\n",
            "Requirement already satisfied: wheel<1.0,>=0.23.0 in /usr/local/lib/python3.10/dist-packages (from astunparse>=1.6.0->tensorflow~=2.16.0->scann) (0.43.0)\n",
            "Requirement already satisfied: rich in /usr/local/lib/python3.10/dist-packages (from keras>=3.0.0->tensorflow~=2.16.0->scann) (13.7.1)\n",
            "Collecting namex (from keras>=3.0.0->tensorflow~=2.16.0->scann)\n",
            "  Downloading namex-0.0.8-py3-none-any.whl (5.8 kB)\n",
            "Collecting optree (from keras>=3.0.0->tensorflow~=2.16.0->scann)\n",
            "  Downloading optree-0.11.0-cp310-cp310-manylinux_2_17_x86_64.manylinux2014_x86_64.whl (311 kB)\n",
            "\u001b[2K     \u001b[90m━━━━━━━━━━━━━━━━━━━━━━━━━━━━━━━━━━━━━━━━\u001b[0m \u001b[32m311.2/311.2 kB\u001b[0m \u001b[31m30.2 MB/s\u001b[0m eta \u001b[36m0:00:00\u001b[0m\n",
            "\u001b[?25hRequirement already satisfied: charset-normalizer<4,>=2 in /usr/local/lib/python3.10/dist-packages (from requests<3,>=2.21.0->tensorflow~=2.16.0->scann) (3.3.2)\n",
            "Requirement already satisfied: idna<4,>=2.5 in /usr/local/lib/python3.10/dist-packages (from requests<3,>=2.21.0->tensorflow~=2.16.0->scann) (3.7)\n",
            "Requirement already satisfied: urllib3<3,>=1.21.1 in /usr/local/lib/python3.10/dist-packages (from requests<3,>=2.21.0->tensorflow~=2.16.0->scann) (2.0.7)\n",
            "Requirement already satisfied: certifi>=2017.4.17 in /usr/local/lib/python3.10/dist-packages (from requests<3,>=2.21.0->tensorflow~=2.16.0->scann) (2024.2.2)\n",
            "Requirement already satisfied: markdown>=2.6.8 in /usr/local/lib/python3.10/dist-packages (from tensorboard<2.17,>=2.16->tensorflow~=2.16.0->scann) (3.6)\n",
            "Requirement already satisfied: tensorboard-data-server<0.8.0,>=0.7.0 in /usr/local/lib/python3.10/dist-packages (from tensorboard<2.17,>=2.16->tensorflow~=2.16.0->scann) (0.7.2)\n",
            "Requirement already satisfied: werkzeug>=1.0.1 in /usr/local/lib/python3.10/dist-packages (from tensorboard<2.17,>=2.16->tensorflow~=2.16.0->scann) (3.0.3)\n",
            "Requirement already satisfied: MarkupSafe>=2.1.1 in /usr/local/lib/python3.10/dist-packages (from werkzeug>=1.0.1->tensorboard<2.17,>=2.16->tensorflow~=2.16.0->scann) (2.1.5)\n",
            "Requirement already satisfied: markdown-it-py>=2.2.0 in /usr/local/lib/python3.10/dist-packages (from rich->keras>=3.0.0->tensorflow~=2.16.0->scann) (3.0.0)\n",
            "Requirement already satisfied: pygments<3.0.0,>=2.13.0 in /usr/local/lib/python3.10/dist-packages (from rich->keras>=3.0.0->tensorflow~=2.16.0->scann) (2.16.1)\n",
            "Requirement already satisfied: mdurl~=0.1 in /usr/local/lib/python3.10/dist-packages (from markdown-it-py>=2.2.0->rich->keras>=3.0.0->tensorflow~=2.16.0->scann) (0.1.2)\n",
            "Installing collected packages: namex, optree, ml-dtypes, h5py, tensorboard, keras, tensorflow, scann\n",
            "  Attempting uninstall: ml-dtypes\n",
            "    Found existing installation: ml-dtypes 0.2.0\n",
            "    Uninstalling ml-dtypes-0.2.0:\n",
            "      Successfully uninstalled ml-dtypes-0.2.0\n",
            "  Attempting uninstall: h5py\n",
            "    Found existing installation: h5py 3.9.0\n",
            "    Uninstalling h5py-3.9.0:\n",
            "      Successfully uninstalled h5py-3.9.0\n",
            "  Attempting uninstall: tensorboard\n",
            "    Found existing installation: tensorboard 2.15.2\n",
            "    Uninstalling tensorboard-2.15.2:\n",
            "      Successfully uninstalled tensorboard-2.15.2\n",
            "  Attempting uninstall: keras\n",
            "    Found existing installation: keras 2.15.0\n",
            "    Uninstalling keras-2.15.0:\n",
            "      Successfully uninstalled keras-2.15.0\n",
            "  Attempting uninstall: tensorflow\n",
            "    Found existing installation: tensorflow 2.15.0\n",
            "    Uninstalling tensorflow-2.15.0:\n",
            "      Successfully uninstalled tensorflow-2.15.0\n",
            "\u001b[31mERROR: pip's dependency resolver does not currently take into account all the packages that are installed. This behaviour is the source of the following dependency conflicts.\n",
            "tf-keras 2.15.1 requires tensorflow<2.16,>=2.15, but you have tensorflow 2.16.1 which is incompatible.\u001b[0m\u001b[31m\n",
            "\u001b[0mSuccessfully installed h5py-3.11.0 keras-3.3.3 ml-dtypes-0.3.2 namex-0.0.8 optree-0.11.0 scann-1.3.2 tensorboard-2.16.2 tensorflow-2.16.1\n"
          ]
        }
      ],
      "source": [
        "!pip install scann\n",
        "import scann"
      ]
    },
    {
      "cell_type": "code",
      "source": [
        "# creating searcher\n",
        "array1 = np.random.rand(512)\n",
        "db_time_scann = []\n",
        "search_time_scann = []\n",
        "for len in lengths:\n",
        "  data = np.random.rand(len, 512).astype('float32')\n",
        "  k = int(np.sqrt(data.shape[0]))\n",
        "  start_time = time.time()\n",
        "  searcher = scann.scann_ops_pybind.builder(data, 10, \"squared_l2\").tree(\n",
        "      num_leaves=k, num_leaves_to_search=int(k/20), training_sample_size=2500).score_brute_force(2).reorder(20).build()\n",
        "  end_time = time.time()\n",
        "  scann_time = end_time - start_time\n",
        "  db_time_scann.append(scann_time)\n",
        "  print('Create Database Time(): ', scann_time)\n",
        "  start_time = time.time()\n",
        "  neighbors, distances = searcher.search(array1, final_num_neighbors=20)\n",
        "  end_time = time.time()\n",
        "  scann_time = end_time - start_time\n",
        "  search_time_scann.append(scann_time)\n",
        "  print('Time Of Search', scann_time)"
      ],
      "metadata": {
        "colab": {
          "base_uri": "https://localhost:8080/"
        },
        "id": "jg3G7ewCr0DU",
        "outputId": "b869a1ca-cf86-45ac-f901-1f398b6e734c"
      },
      "execution_count": 9,
      "outputs": [
        {
          "output_type": "stream",
          "name": "stdout",
          "text": [
            "Create Database Time():  0.0038826465606689453\n",
            "Time Of Search 0.0001125335693359375\n",
            "Create Database Time():  0.003584623336791992\n",
            "Time Of Search 6.580352783203125e-05\n",
            "Create Database Time():  0.021195173263549805\n",
            "Time Of Search 0.00013399124145507812\n",
            "Create Database Time():  0.18987107276916504\n",
            "Time Of Search 0.0002429485321044922\n",
            "Create Database Time():  2.0597984790802\n",
            "Time Of Search 0.0023179054260253906\n",
            "Create Database Time():  23.883264780044556\n",
            "Time Of Search 0.09152507781982422\n"
          ]
        }
      ]
    },
    {
      "cell_type": "markdown",
      "source": [
        "# ChromaDB"
      ],
      "metadata": {
        "id": "HakW8y8Vbm5i"
      }
    },
    {
      "cell_type": "code",
      "source": [
        "!pip install -Uq chromadb"
      ],
      "metadata": {
        "id": "FWFMY9rWbvNv",
        "colab": {
          "base_uri": "https://localhost:8080/"
        },
        "outputId": "4e08f0f9-f846-4ca1-a1d0-fcacae7f8543"
      },
      "execution_count": 10,
      "outputs": [
        {
          "output_type": "stream",
          "name": "stdout",
          "text": [
            "\u001b[?25l     \u001b[90m━━━━━━━━━━━━━━━━━━━━━━━━━━━━━━━━━━━━━━━━\u001b[0m \u001b[32m0.0/526.8 kB\u001b[0m \u001b[31m?\u001b[0m eta \u001b[36m-:--:--\u001b[0m\r\u001b[2K     \u001b[91m━━━━━━━━━━━━━━━━━━━━━━\u001b[0m\u001b[91m╸\u001b[0m\u001b[90m━━━━━━━━━━━━━━━━━\u001b[0m \u001b[32m297.0/526.8 kB\u001b[0m \u001b[31m8.7 MB/s\u001b[0m eta \u001b[36m0:00:01\u001b[0m\r\u001b[2K     \u001b[90m━━━━━━━━━━━━━━━━━━━━━━━━━━━━━━━━━━━━━━━━\u001b[0m \u001b[32m526.8/526.8 kB\u001b[0m \u001b[31m10.2 MB/s\u001b[0m eta \u001b[36m0:00:00\u001b[0m\n",
            "\u001b[2K     \u001b[90m━━━━━━━━━━━━━━━━━━━━━━━━━━━━━━━━━━━━━━━━\u001b[0m \u001b[32m2.4/2.4 MB\u001b[0m \u001b[31m43.6 MB/s\u001b[0m eta \u001b[36m0:00:00\u001b[0m\n",
            "\u001b[2K     \u001b[90m━━━━━━━━━━━━━━━━━━━━━━━━━━━━━━━━━━━━━━━━\u001b[0m \u001b[32m92.0/92.0 kB\u001b[0m \u001b[31m7.9 MB/s\u001b[0m eta \u001b[36m0:00:00\u001b[0m\n",
            "\u001b[2K     \u001b[90m━━━━━━━━━━━━━━━━━━━━━━━━━━━━━━━━━━━━━━━━\u001b[0m \u001b[32m62.4/62.4 kB\u001b[0m \u001b[31m3.8 MB/s\u001b[0m eta \u001b[36m0:00:00\u001b[0m\n",
            "\u001b[2K     \u001b[90m━━━━━━━━━━━━━━━━━━━━━━━━━━━━━━━━━━━━━━━━\u001b[0m \u001b[32m41.3/41.3 kB\u001b[0m \u001b[31m4.4 MB/s\u001b[0m eta \u001b[36m0:00:00\u001b[0m\n",
            "\u001b[2K     \u001b[90m━━━━━━━━━━━━━━━━━━━━━━━━━━━━━━━━━━━━━━━━\u001b[0m \u001b[32m6.8/6.8 MB\u001b[0m \u001b[31m52.6 MB/s\u001b[0m eta \u001b[36m0:00:00\u001b[0m\n",
            "\u001b[2K     \u001b[90m━━━━━━━━━━━━━━━━━━━━━━━━━━━━━━━━━━━━━━━━\u001b[0m \u001b[32m60.1/60.1 kB\u001b[0m \u001b[31m7.2 MB/s\u001b[0m eta \u001b[36m0:00:00\u001b[0m\n",
            "\u001b[2K     \u001b[90m━━━━━━━━━━━━━━━━━━━━━━━━━━━━━━━━━━━━━━━━\u001b[0m \u001b[32m106.1/106.1 kB\u001b[0m \u001b[31m12.5 MB/s\u001b[0m eta \u001b[36m0:00:00\u001b[0m\n",
            "\u001b[2K     \u001b[90m━━━━━━━━━━━━━━━━━━━━━━━━━━━━━━━━━━━━━━━━\u001b[0m \u001b[32m67.3/67.3 kB\u001b[0m \u001b[31m8.1 MB/s\u001b[0m eta \u001b[36m0:00:00\u001b[0m\n",
            "\u001b[?25h  Installing build dependencies ... \u001b[?25l\u001b[?25hdone\n",
            "  Getting requirements to build wheel ... \u001b[?25l\u001b[?25hdone\n",
            "  Preparing metadata (pyproject.toml) ... \u001b[?25l\u001b[?25hdone\n",
            "\u001b[2K     \u001b[90m━━━━━━━━━━━━━━━━━━━━━━━━━━━━━━━━━━━━━━━━\u001b[0m \u001b[32m283.7/283.7 kB\u001b[0m \u001b[31m31.9 MB/s\u001b[0m eta \u001b[36m0:00:00\u001b[0m\n",
            "\u001b[2K     \u001b[90m━━━━━━━━━━━━━━━━━━━━━━━━━━━━━━━━━━━━━━━━\u001b[0m \u001b[32m1.6/1.6 MB\u001b[0m \u001b[31m65.6 MB/s\u001b[0m eta \u001b[36m0:00:00\u001b[0m\n",
            "\u001b[2K     \u001b[90m━━━━━━━━━━━━━━━━━━━━━━━━━━━━━━━━━━━━━━━━\u001b[0m \u001b[32m67.6/67.6 kB\u001b[0m \u001b[31m8.3 MB/s\u001b[0m eta \u001b[36m0:00:00\u001b[0m\n",
            "\u001b[2K     \u001b[90m━━━━━━━━━━━━━━━━━━━━━━━━━━━━━━━━━━━━━━━━\u001b[0m \u001b[32m142.5/142.5 kB\u001b[0m \u001b[31m16.5 MB/s\u001b[0m eta \u001b[36m0:00:00\u001b[0m\n",
            "\u001b[2K     \u001b[90m━━━━━━━━━━━━━━━━━━━━━━━━━━━━━━━━━━━━━━━━\u001b[0m \u001b[32m71.9/71.9 kB\u001b[0m \u001b[31m9.0 MB/s\u001b[0m eta \u001b[36m0:00:00\u001b[0m\n",
            "\u001b[2K     \u001b[90m━━━━━━━━━━━━━━━━━━━━━━━━━━━━━━━━━━━━━━━━\u001b[0m \u001b[32m75.6/75.6 kB\u001b[0m \u001b[31m8.4 MB/s\u001b[0m eta \u001b[36m0:00:00\u001b[0m\n",
            "\u001b[2K     \u001b[90m━━━━━━━━━━━━━━━━━━━━━━━━━━━━━━━━━━━━━━━━\u001b[0m \u001b[32m53.6/53.6 kB\u001b[0m \u001b[31m7.0 MB/s\u001b[0m eta \u001b[36m0:00:00\u001b[0m\n",
            "\u001b[2K     \u001b[90m━━━━━━━━━━━━━━━━━━━━━━━━━━━━━━━━━━━━━━━━\u001b[0m \u001b[32m46.0/46.0 kB\u001b[0m \u001b[31m5.6 MB/s\u001b[0m eta \u001b[36m0:00:00\u001b[0m\n",
            "\u001b[2K     \u001b[90m━━━━━━━━━━━━━━━━━━━━━━━━━━━━━━━━━━━━━━━━\u001b[0m \u001b[32m50.8/50.8 kB\u001b[0m \u001b[31m6.2 MB/s\u001b[0m eta \u001b[36m0:00:00\u001b[0m\n",
            "\u001b[2K     \u001b[90m━━━━━━━━━━━━━━━━━━━━━━━━━━━━━━━━━━━━━━━━\u001b[0m \u001b[32m58.3/58.3 kB\u001b[0m \u001b[31m6.4 MB/s\u001b[0m eta \u001b[36m0:00:00\u001b[0m\n",
            "\u001b[2K     \u001b[90m━━━━━━━━━━━━━━━━━━━━━━━━━━━━━━━━━━━━━━━━\u001b[0m \u001b[32m341.4/341.4 kB\u001b[0m \u001b[31m34.5 MB/s\u001b[0m eta \u001b[36m0:00:00\u001b[0m\n",
            "\u001b[2K     \u001b[90m━━━━━━━━━━━━━━━━━━━━━━━━━━━━━━━━━━━━━━━━\u001b[0m \u001b[32m3.4/3.4 MB\u001b[0m \u001b[31m55.8 MB/s\u001b[0m eta \u001b[36m0:00:00\u001b[0m\n",
            "\u001b[2K     \u001b[90m━━━━━━━━━━━━━━━━━━━━━━━━━━━━━━━━━━━━━━━━\u001b[0m \u001b[32m1.2/1.2 MB\u001b[0m \u001b[31m68.7 MB/s\u001b[0m eta \u001b[36m0:00:00\u001b[0m\n",
            "\u001b[2K     \u001b[90m━━━━━━━━━━━━━━━━━━━━━━━━━━━━━━━━━━━━━━━━\u001b[0m \u001b[32m130.2/130.2 kB\u001b[0m \u001b[31m15.2 MB/s\u001b[0m eta \u001b[36m0:00:00\u001b[0m\n",
            "\u001b[2K     \u001b[90m━━━━━━━━━━━━━━━━━━━━━━━━━━━━━━━━━━━━━━━━\u001b[0m \u001b[32m307.7/307.7 kB\u001b[0m \u001b[31m32.1 MB/s\u001b[0m eta \u001b[36m0:00:00\u001b[0m\n",
            "\u001b[2K     \u001b[90m━━━━━━━━━━━━━━━━━━━━━━━━━━━━━━━━━━━━━━━━\u001b[0m \u001b[32m47.2/47.2 kB\u001b[0m \u001b[31m6.2 MB/s\u001b[0m eta \u001b[36m0:00:00\u001b[0m\n",
            "\u001b[2K     \u001b[90m━━━━━━━━━━━━━━━━━━━━━━━━━━━━━━━━━━━━━━━━\u001b[0m \u001b[32m77.9/77.9 kB\u001b[0m \u001b[31m7.8 MB/s\u001b[0m eta \u001b[36m0:00:00\u001b[0m\n",
            "\u001b[2K     \u001b[90m━━━━━━━━━━━━━━━━━━━━━━━━━━━━━━━━━━━━━━━━\u001b[0m \u001b[32m86.8/86.8 kB\u001b[0m \u001b[31m7.5 MB/s\u001b[0m eta \u001b[36m0:00:00\u001b[0m\n",
            "\u001b[?25h  Building wheel for pypika (pyproject.toml) ... \u001b[?25l\u001b[?25hdone\n",
            "\u001b[31mERROR: pip's dependency resolver does not currently take into account all the packages that are installed. This behaviour is the source of the following dependency conflicts.\n",
            "spacy 3.7.4 requires typer<0.10.0,>=0.3.0, but you have typer 0.12.3 which is incompatible.\n",
            "weasel 0.3.4 requires typer<0.10.0,>=0.3.0, but you have typer 0.12.3 which is incompatible.\u001b[0m\u001b[31m\n",
            "\u001b[0m"
          ]
        }
      ]
    },
    {
      "cell_type": "code",
      "source": [
        "import random\n",
        "import string\n",
        "lengths = [10, 100, 1000, 10000]\n",
        "array1 = np.random.rand(512)\n",
        "def generate_random_string(length):\n",
        "    characters = string.ascii_letters + string.digits\n",
        "    random_string = ''.join(random.choice(characters) for i in range(length))\n",
        "    return random_string"
      ],
      "metadata": {
        "id": "LTZKA-w_5VQE"
      },
      "execution_count": 21,
      "outputs": []
    },
    {
      "cell_type": "code",
      "source": [
        "import chromadb\n",
        "client = chromadb.Client()\n",
        "collection = client.create_collection(\"test2\")\n",
        "db_time_chroma = []\n",
        "search_time_chroma = []\n",
        "for len in lengths:\n",
        "  data = np.random.rand(len, 512).astype('float32')\n",
        "  idz = [generate_random_string(16) for i in range(len)]\n",
        "  strt = time.time()\n",
        "  collection.add(\n",
        "      ids=idz,\n",
        "      embeddings=data,\n",
        "  )\n",
        "  end = time.time() - strt\n",
        "  db_time_chroma.append(end)\n",
        "  print('Create Database Time(): ', end)\n",
        "  strt = time.time()\n",
        "  results = collection.query(array1.reshape((1, 512)),\n",
        "      n_results=100)\n",
        "  end = time.time() - strt\n",
        "  search_time_chroma.append(end)\n",
        "  print('Search Time (ChromaDB) :', end)"
      ],
      "metadata": {
        "id": "3Gn0eCNxb15r",
        "colab": {
          "base_uri": "https://localhost:8080/"
        },
        "collapsed": true,
        "outputId": "f11e15bd-99c4-45a0-c818-5a68a66680a0"
      },
      "execution_count": 22,
      "outputs": [
        {
          "output_type": "stream",
          "name": "stderr",
          "text": [
            "WARNING:chromadb.segment.impl.vector.local_hnsw:Number of requested results 100 is greater than number of elements in index 10, updating n_results = 10\n"
          ]
        },
        {
          "output_type": "stream",
          "name": "stdout",
          "text": [
            "Create Database Time():  0.13708114624023438\n",
            "Search Time (ChromaDB) : 0.014411687850952148\n",
            "Create Database Time():  0.23093605041503906\n",
            "Search Time (ChromaDB) : 0.01126551628112793\n",
            "Create Database Time():  2.852107524871826\n",
            "Search Time (ChromaDB) : 0.005764484405517578\n",
            "Create Database Time():  21.808093309402466\n",
            "Search Time (ChromaDB) : 0.00767064094543457\n"
          ]
        }
      ]
    },
    {
      "cell_type": "code",
      "source": [
        "print(db_time_chroma)\n",
        "print(search_time_chroma)"
      ],
      "metadata": {
        "colab": {
          "base_uri": "https://localhost:8080/"
        },
        "id": "PtUSezntiGv-",
        "outputId": "c50ee7fa-a33a-49b5-9ca1-85ae2adfb0f2"
      },
      "execution_count": 23,
      "outputs": [
        {
          "output_type": "stream",
          "name": "stdout",
          "text": [
            "[0.13708114624023438, 0.23093605041503906, 2.852107524871826, 21.808093309402466]\n",
            "[0.014411687850952148, 0.01126551628112793, 0.005764484405517578, 0.00767064094543457]\n"
          ]
        }
      ]
    },
    {
      "cell_type": "code",
      "source": [
        "from tqdm import tqdm\n",
        "collection = client.create_collection(\"test0\")\n",
        "strt = time.time()\n",
        "for len in tqdm(range(5)):\n",
        "  data = np.random.rand(20000, 512).astype('float32')\n",
        "  idz = [generate_random_string(16) for i in range(20000)]\n",
        "  collection.add(\n",
        "      ids=idz,\n",
        "      embeddings=data,\n",
        "  )\n",
        "end = time.time() - strt\n",
        "db_time_chroma.append(end)\n",
        "print('Create Database Time(): ', end)\n",
        "\n",
        "strt = time.time()\n",
        "results = collection.query(array1.reshape((1, 512)),\n",
        "    n_results=100)\n",
        "end = time.time() - strt\n",
        "search_time_chroma.append(end)\n",
        "print('Search Time (ChromaDB) :', end)"
      ],
      "metadata": {
        "colab": {
          "base_uri": "https://localhost:8080/"
        },
        "id": "rtuk0X8V7T5c",
        "outputId": "a6f4d84d-3574-4d2b-883b-7585698444f6"
      },
      "execution_count": 24,
      "outputs": [
        {
          "output_type": "stream",
          "name": "stderr",
          "text": [
            "100%|██████████| 5/5 [04:15<00:00, 51.16s/it]"
          ]
        },
        {
          "output_type": "stream",
          "name": "stdout",
          "text": [
            "Create Database Time():  255.83130359649658\n",
            "Search Time (ChromaDB) : 0.008841276168823242\n"
          ]
        },
        {
          "output_type": "stream",
          "name": "stderr",
          "text": [
            "\n"
          ]
        }
      ]
    },
    {
      "cell_type": "code",
      "source": [
        "search_time_chroma"
      ],
      "metadata": {
        "colab": {
          "base_uri": "https://localhost:8080/"
        },
        "id": "zdCwuY_nCJFO",
        "outputId": "6bd15b56-9fd5-4218-cf29-331dc3ce7e0d"
      },
      "execution_count": 29,
      "outputs": [
        {
          "output_type": "execute_result",
          "data": {
            "text/plain": [
              "[0.014411687850952148,\n",
              " 0.01126551628112793,\n",
              " 0.005764484405517578,\n",
              " 0.00767064094543457,\n",
              " 0.008841276168823242,\n",
              " 0.020541667938232422]"
            ]
          },
          "metadata": {},
          "execution_count": 29
        }
      ]
    },
    {
      "cell_type": "code",
      "source": [
        "collection = client.create_collection(\"test7\")\n",
        "strt = time.time()\n",
        "for len in tqdm(range(20)):\n",
        "  data = np.random.rand(25000, 512).astype('float32')\n",
        "  idz = [generate_random_string(16) for i in range(25000)]\n",
        "  collection.add(\n",
        "      ids=idz,\n",
        "      embeddings=data,\n",
        "  )\n",
        "end = time.time() - strt\n",
        "db_time_chroma.append(end)\n",
        "print('Create Database Time(): ', end)\n",
        "\n",
        "strt = time.time()\n",
        "results = collection.query(array1.reshape((1, 512)),\n",
        "    n_results=100)\n",
        "end = time.time() - strt\n",
        "search_time_chroma.append(end)\n",
        "print('Search Time (ChromaDB) :', end)"
      ],
      "metadata": {
        "colab": {
          "base_uri": "https://localhost:8080/"
        },
        "id": "xYFKZA2iB9DZ",
        "outputId": "195dcd2f-901b-43f1-a495-67a42b7a3df0"
      },
      "execution_count": 28,
      "outputs": [
        {
          "output_type": "stream",
          "name": "stderr",
          "text": [
            "100%|██████████| 20/20 [26:11<00:00, 78.60s/it]"
          ]
        },
        {
          "output_type": "stream",
          "name": "stdout",
          "text": [
            "Create Database Time():  1571.9919335842133\n",
            "Search Time (ChromaDB) : 0.020541667938232422\n"
          ]
        },
        {
          "output_type": "stream",
          "name": "stderr",
          "text": [
            "\n"
          ]
        }
      ]
    },
    {
      "cell_type": "markdown",
      "source": [
        "# Plot Results"
      ],
      "metadata": {
        "id": "9-qSvd11i01X"
      }
    },
    {
      "cell_type": "code",
      "source": [
        "search_time_faiss"
      ],
      "metadata": {
        "colab": {
          "base_uri": "https://localhost:8080/"
        },
        "id": "WWPmXSUvTy1h",
        "outputId": "02e4fd78-afef-4fc8-b44f-ed44c1042362"
      },
      "execution_count": 32,
      "outputs": [
        {
          "output_type": "execute_result",
          "data": {
            "text/plain": [
              "[5.745887756347656e-05,\n",
              " 0.00010442733764648438,\n",
              " 0.0003867149353027344,\n",
              " 0.009325742721557617,\n",
              " 0.08532381057739258,\n",
              " 0.2229459285736084]"
            ]
          },
          "metadata": {},
          "execution_count": 32
        }
      ]
    },
    {
      "cell_type": "code",
      "source": [
        "import matplotlib.pyplot as plt\n",
        "lengths = [10, 100, 1000, 10000, 100000, 500000]\n",
        "plt.figure(figsize=(10, 5))\n",
        "plt.plot(lengths, search_time_faiss, label='FAISS')\n",
        "plt.plot(lengths, search_time_np, label='Numpy')\n",
        "plt.plot(lengths, search_time_scann, label='ScaNN')\n",
        "plt.plot(lengths, search_time_chroma, label='ChromaDB')\n",
        "plt.legend()\n",
        "plt.title('Search Time')\n",
        "plt.xlabel('DB Size')\n",
        "plt.ylabel('Time(s)')"
      ],
      "metadata": {
        "colab": {
          "base_uri": "https://localhost:8080/",
          "height": 505
        },
        "id": "uaCAi-N4i3x3",
        "outputId": "595bde1d-af18-45e7-e438-8164fdd1a772"
      },
      "execution_count": 35,
      "outputs": [
        {
          "output_type": "execute_result",
          "data": {
            "text/plain": [
              "Text(0, 0.5, 'Time(s)')"
            ]
          },
          "metadata": {},
          "execution_count": 35
        },
        {
          "output_type": "display_data",
          "data": {
            "text/plain": [
              "<Figure size 1000x500 with 1 Axes>"
            ],
            "image/png": "[encoded data removed]"
          },
          "metadata": {}
        }
      ]
    },
    {
      "cell_type": "code",
      "source": [
        "import matplotlib.pyplot as plt\n",
        "plt.figure(figsize=(10, 5))\n",
        "plt.plot(lengths, db_time_faiss, label='FAISS')\n",
        "# plt.plot(search_time_np, label='Numpy')\n",
        "plt.plot(lengths, db_time_scann, label='ScaNN')\n",
        "plt.plot(lengths, db_time_chroma, label='ChromaDB')\n",
        "plt.legend()\n",
        "plt.title('Cretae DB Time')\n",
        "plt.xlabel('DB Size')\n",
        "plt.ylabel('Time(s)')"
      ],
      "metadata": {
        "colab": {
          "base_uri": "https://localhost:8080/",
          "height": 505
        },
        "id": "0wcvirdzjqFw",
        "outputId": "f4114bca-bb36-4cb4-d359-3da813b42d38"
      },
      "execution_count": 36,
      "outputs": [
        {
          "output_type": "execute_result",
          "data": {
            "text/plain": [
              "Text(0, 0.5, 'Time(s)')"
            ]
          },
          "metadata": {},
          "execution_count": 36
        },
        {
          "output_type": "display_data",
          "data": {
            "text/plain": [
              "<Figure size 1000x500 with 1 Axes>"
            ],
            "image/png": "[encoded data removed]"
          },
          "metadata": {}
        }
      ]
    }
  ],
  "metadata": {
    "kernelspec": {
      "display_name": "Python 3",
      "language": "python",
      "name": "python3"
    },
    "language_info": {
      "codemirror_mode": {
        "name": "ipython",
        "version": 3
      },
      "file_extension": ".py",
      "mimetype": "text/x-python",
      "name": "python",
      "nbconvert_exporter": "python",
      "pygments_lexer": "ipython3",
      "version": "3.10.10"
    },
    "colab": {
      "provenance": []
    }
  },
  "nbformat": 4,
  "nbformat_minor": 0
}